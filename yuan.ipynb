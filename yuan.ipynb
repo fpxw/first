{
 "cells": [
  {
   "cell_type": "markdown",
   "metadata": {},
   "source": [
    "# **寻找道路上的车道线** \n",
    "***\n",
    "在此项目中，您将使用在课程中学到的知识来识别道路上的车道线。您可以在一系列单独的图像上开发，然后应用于视频流（实际上只是一系列图像）。\n",
    "\n",
    "需要安装额外的库: conda install -c conda-forge moviepy\n",
    "\n"
   ]
  },
  {
   "cell_type": "markdown",
   "metadata": {},
   "source": [
    "**步骤包括感兴趣区域选择，灰度，高斯平滑，Canny边缘检测和Hough Tranform线检测。**\n",
    "\n",
    "---\n",
    "\n",
    "<figure>\n",
    " <img src=\"line-segments-example.jpg\" width=\"380\" alt=\"Combined Image\" />\n",
    " <figcaption>\n",
    " <p></p> \n",
    " <p style=\"text-align: center;\"> 车道线线段 </p> \n",
    " </figcaption>\n",
    "</figure>\n",
    " <p></p> \n",
    "<figure>\n",
    " <img src=\"laneLines_thirdPass.jpg\" width=\"380\" alt=\"Combined Image\" />\n",
    " <figcaption>\n",
    " <p></p> \n",
    " <p style=\"text-align: center;\"> 外推后的车道线</p> \n",
    " </figcaption>\n",
    "</figure>"
   ]
  },
  {
   "cell_type": "code",
   "execution_count": 1,
   "metadata": {},
   "outputs": [],
   "source": [
    "# 导入工具库\n",
    "import matplotlib.pyplot as plt\n",
    "import matplotlib.image as mpimg\n",
    "import numpy as np\n",
    "import cv2\n",
    "%matplotlib inline"
   ]
  },
  {
   "cell_type": "code",
   "execution_count": 2,
   "metadata": {},
   "outputs": [
    {
     "output_type": "error",
     "ename": "FileNotFoundError",
     "evalue": "[Errno 2] No such file or directory: 'test_images/solidWhiteRight.jpg'",
     "traceback": [
      "\u001b[1;31m---------------------------------------------------------------------------\u001b[0m",
      "\u001b[1;31mFileNotFoundError\u001b[0m                         Traceback (most recent call last)",
      "\u001b[1;32m<ipython-input-2-ebcc9c107481>\u001b[0m in \u001b[0;36m<module>\u001b[1;34m\u001b[0m\n\u001b[0;32m      1\u001b[0m \u001b[1;31m#读入图像\u001b[0m\u001b[1;33m\u001b[0m\u001b[1;33m\u001b[0m\u001b[1;33m\u001b[0m\u001b[0m\n\u001b[1;32m----> 2\u001b[1;33m \u001b[0mimage\u001b[0m \u001b[1;33m=\u001b[0m \u001b[0mmpimg\u001b[0m\u001b[1;33m.\u001b[0m\u001b[0mimread\u001b[0m\u001b[1;33m(\u001b[0m\u001b[1;34m'test_images/solidWhiteRight.jpg'\u001b[0m\u001b[1;33m)\u001b[0m\u001b[1;33m\u001b[0m\u001b[1;33m\u001b[0m\u001b[0m\n\u001b[0m\u001b[0;32m      3\u001b[0m \u001b[1;31m#输出图像特征,显示图像\u001b[0m\u001b[1;33m\u001b[0m\u001b[1;33m\u001b[0m\u001b[1;33m\u001b[0m\u001b[0m\n\u001b[0;32m      4\u001b[0m \u001b[0mprint\u001b[0m\u001b[1;33m(\u001b[0m\u001b[1;34m'This image is:'\u001b[0m\u001b[1;33m,\u001b[0m \u001b[0mtype\u001b[0m\u001b[1;33m(\u001b[0m\u001b[0mimage\u001b[0m\u001b[1;33m)\u001b[0m\u001b[1;33m,\u001b[0m \u001b[1;34m'with dimesions:'\u001b[0m\u001b[1;33m,\u001b[0m \u001b[0mimage\u001b[0m\u001b[1;33m.\u001b[0m\u001b[0mshape\u001b[0m\u001b[1;33m)\u001b[0m\u001b[1;33m\u001b[0m\u001b[1;33m\u001b[0m\u001b[0m\n\u001b[0;32m      5\u001b[0m \u001b[0mplt\u001b[0m\u001b[1;33m.\u001b[0m\u001b[0mimshow\u001b[0m\u001b[1;33m(\u001b[0m\u001b[0mimage\u001b[0m\u001b[1;33m)\u001b[0m\u001b[1;33m\u001b[0m\u001b[1;33m\u001b[0m\u001b[0m\n",
      "\u001b[1;32mD:\\PYthon\\an\\lib\\site-packages\\matplotlib\\image.py\u001b[0m in \u001b[0;36mimread\u001b[1;34m(fname, format)\u001b[0m\n\u001b[0;32m   1488\u001b[0m                     \u001b[0mresponse\u001b[0m \u001b[1;33m=\u001b[0m \u001b[0mio\u001b[0m\u001b[1;33m.\u001b[0m\u001b[0mBytesIO\u001b[0m\u001b[1;33m(\u001b[0m\u001b[0mresponse\u001b[0m\u001b[1;33m.\u001b[0m\u001b[0mread\u001b[0m\u001b[1;33m(\u001b[0m\u001b[1;33m)\u001b[0m\u001b[1;33m)\u001b[0m\u001b[1;33m\u001b[0m\u001b[1;33m\u001b[0m\u001b[0m\n\u001b[0;32m   1489\u001b[0m                 \u001b[1;32mreturn\u001b[0m \u001b[0mimread\u001b[0m\u001b[1;33m(\u001b[0m\u001b[0mresponse\u001b[0m\u001b[1;33m,\u001b[0m \u001b[0mformat\u001b[0m\u001b[1;33m=\u001b[0m\u001b[0mext\u001b[0m\u001b[1;33m)\u001b[0m\u001b[1;33m\u001b[0m\u001b[1;33m\u001b[0m\u001b[0m\n\u001b[1;32m-> 1490\u001b[1;33m     \u001b[1;32mwith\u001b[0m \u001b[0mimg_open\u001b[0m\u001b[1;33m(\u001b[0m\u001b[0mfname\u001b[0m\u001b[1;33m)\u001b[0m \u001b[1;32mas\u001b[0m \u001b[0mimage\u001b[0m\u001b[1;33m:\u001b[0m\u001b[1;33m\u001b[0m\u001b[1;33m\u001b[0m\u001b[0m\n\u001b[0m\u001b[0;32m   1491\u001b[0m         return (_pil_png_to_float_array(image)\n\u001b[0;32m   1492\u001b[0m                 \u001b[1;32mif\u001b[0m \u001b[0misinstance\u001b[0m\u001b[1;33m(\u001b[0m\u001b[0mimage\u001b[0m\u001b[1;33m,\u001b[0m \u001b[0mPIL\u001b[0m\u001b[1;33m.\u001b[0m\u001b[0mPngImagePlugin\u001b[0m\u001b[1;33m.\u001b[0m\u001b[0mPngImageFile\u001b[0m\u001b[1;33m)\u001b[0m \u001b[1;32melse\u001b[0m\u001b[1;33m\u001b[0m\u001b[1;33m\u001b[0m\u001b[0m\n",
      "\u001b[1;32mD:\\PYthon\\an\\lib\\site-packages\\PIL\\Image.py\u001b[0m in \u001b[0;36mopen\u001b[1;34m(fp, mode, formats)\u001b[0m\n\u001b[0;32m   2889\u001b[0m \u001b[1;33m\u001b[0m\u001b[0m\n\u001b[0;32m   2890\u001b[0m     \u001b[1;32mif\u001b[0m \u001b[0mfilename\u001b[0m\u001b[1;33m:\u001b[0m\u001b[1;33m\u001b[0m\u001b[1;33m\u001b[0m\u001b[0m\n\u001b[1;32m-> 2891\u001b[1;33m         \u001b[0mfp\u001b[0m \u001b[1;33m=\u001b[0m \u001b[0mbuiltins\u001b[0m\u001b[1;33m.\u001b[0m\u001b[0mopen\u001b[0m\u001b[1;33m(\u001b[0m\u001b[0mfilename\u001b[0m\u001b[1;33m,\u001b[0m \u001b[1;34m\"rb\"\u001b[0m\u001b[1;33m)\u001b[0m\u001b[1;33m\u001b[0m\u001b[1;33m\u001b[0m\u001b[0m\n\u001b[0m\u001b[0;32m   2892\u001b[0m         \u001b[0mexclusive_fp\u001b[0m \u001b[1;33m=\u001b[0m \u001b[1;32mTrue\u001b[0m\u001b[1;33m\u001b[0m\u001b[1;33m\u001b[0m\u001b[0m\n\u001b[0;32m   2893\u001b[0m \u001b[1;33m\u001b[0m\u001b[0m\n",
      "\u001b[1;31mFileNotFoundError\u001b[0m: [Errno 2] No such file or directory: 'test_images/solidWhiteRight.jpg'"
     ]
    }
   ],
   "source": [
    "#读入图像\n",
    "image = mpimg.imread('test_images/solidWhiteRight.jpg')\n",
    "#输出图像特征,显示图像\n",
    "print('This image is:', type(image), 'with dimesions:', image.shape)\n",
    "plt.imshow(image)  "
   ]
  },
  {
   "cell_type": "code",
   "execution_count": 3,
   "metadata": {},
   "outputs": [],
   "source": [
    "import math\n",
    "\n",
    "def grayscale(img):\n",
    "    \"\"\"灰度变换\"\"\"\n",
    "    return cv2.cvtColor(img, cv2.COLOR_RGB2GRAY)\n",
    "    # Or use BGR2GRAY if you read an image with cv2.imread()\n",
    "    # return cv2.cvtColor(img, cv2.COLOR_BGR2GRAY)\n",
    "    \n",
    "def canny(img, low_threshold, high_threshold):\n",
    "    \"\"\"边缘检测\"\"\"\n",
    "    return cv2.Canny(img, low_threshold, high_threshold)\n",
    "\n",
    "def gaussian_blur(img, kernel_size):\n",
    "    \"\"\"高斯去燥\"\"\"\n",
    "    return cv2.GaussianBlur(img, (kernel_size, kernel_size), 0)\n",
    "\n",
    "def median_blur(img, kernel_size):  \n",
    "    \"\"\"中值去燥\"\"\"\n",
    "    return cv2.medianBlur(img, kernel_size)\n",
    "    \n",
    "def region_of_interest(img, vertices):\n",
    "    \"\"\"\n",
    "    图像蒙版.\n",
    "    \"\"\"\n",
    "    #定义一个蒙版, 所有值都为0\n",
    "    mask = np.zeros_like(img)   \n",
    "    \n",
    "    #根据输入图像的通道数, 设置色彩\n",
    "    if len(img.shape) > 2:\n",
    "        channel_count = img.shape[2]  \n",
    "        ignore_mask_color = (255,) * channel_count\n",
    "    else:\n",
    "        ignore_mask_color = 255\n",
    "        \n",
    "    #使用色彩填充vertices构成的多边形 \n",
    "    cv2.fillPoly(mask, vertices, ignore_mask_color)\n",
    "    \n",
    "    #执行蒙版操作\n",
    "    masked_image = cv2.bitwise_and(img, mask)\n",
    "    return masked_image\n",
    "\n",
    "def draw_lines(img, lines, color=[255, 0, 0], thickness=2):\n",
    "    \"\"\"\n",
    "    画线段\n",
    "    \"\"\"\n",
    "    for line in lines:\n",
    "        for x1,y1,x2,y2 in line:\n",
    "            cv2.line(img, (x1, y1), (x2, y2), color, thickness)\n",
    "\n",
    "def get_y_intercept(lane_lines, slopes):\n",
    "    \"\"\"\n",
    "    根据输入的线段和斜率, 计算y方向的截距和平均斜率\n",
    "    \"\"\"\n",
    "    \n",
    "    slopes = slopes[~np.isnan(slopes)]\n",
    "    slopes = slopes[~np.isinf(slopes)]\n",
    "    avg_slope = slopes.mean()\n",
    "    lane_lines = lane_lines.reshape((lane_lines.shape[0]*2, lane_lines.shape[1]//2))\n",
    "    x_mean, y_mean = np.mean(lane_lines, axis=0)\n",
    "    return y_mean - (x_mean*avg_slope), avg_slope\n",
    "\n",
    "def get_x_intercepts(y_1, y_2, slope, b):\n",
    "    \"\"\"\n",
    "    根据斜率和截距, 计算对应y值的x\n",
    "    \"\"\"\n",
    "    if not (~np.isnan(slope) and ~np.isnan(b)):\n",
    "        x_1 = x_2 = 0.0\n",
    "    else:\n",
    "        x_1 = (y_1 - b)/slope\n",
    "        x_2 = (y_2 - b)/slope\n",
    "    return x_1, x_2\n",
    "\n",
    "prev_left_x1 = 0\n",
    "prev_left_x2 = 0\n",
    "prev_right_x1 = 0 \n",
    "prev_right_x2 = 0 \n",
    "prev_left_avg_m = 0\n",
    "prev_right_avg_m = 0\n",
    "pev_left_avg_m = -1\n",
    "prev_right_avg_m = 1\n",
    "prev_left_b = 0\n",
    "prev_right_b = 0\n",
    "prev_left_line = 0\n",
    "prev_right_line = 0\n",
    "\n",
    "def draw_lines_extrapolated(img, lines, color=[255, 0, 0], thickness=10):\n",
    "    imgshape = img.shape\n",
    "    lines = lines.reshape((lines.shape[0], lines.shape[2]))\n",
    "    y_min = lines.reshape((lines.shape[0]*2, lines.shape[1]//2))[:,1].min()\n",
    "    \n",
    "    # slope= (    y2      -     y1   )/(    x2     -     x1    )  \n",
    "    slopes = (lines[:,3] - lines[:,1])/(lines[:,2] - lines[:,0])\n",
    "    slopes = slopes[~np.isinf(slopes)]\n",
    "    slopes = slopes[~np.isnan(slopes)]\n",
    "    left_lines = lines[slopes < -0.5]   # 左边的行车道斜率为负\n",
    "    right_lines= lines[slopes > 0.5]    # 右边的行车道斜率为正\n",
    "    left_slopes = slopes[slopes < -0.5]\n",
    "    right_slopes= slopes[slopes > 0.5]\n",
    "    \n",
    "    global prev_left_avg_m \n",
    "    global prev_right_avg_m \n",
    "    global prev_left_b\n",
    "    global prev_right_b\n",
    "    \n",
    "    left_b, left_avg_m = get_y_intercept(left_lines, left_slopes)\n",
    "    right_b, right_avg_m = get_y_intercept(right_lines, right_slopes)\n",
    "\n",
    "    keep_prev_left = False\n",
    "    keep_prev_right = False\n",
    "    \n",
    "    if left_avg_m < -0.83 or left_avg_m > -0.36:\n",
    "        left_avg_m = prev_left_avg_m\n",
    "        left_b = prev_left_b\n",
    "        keep_prev_left = True\n",
    "    if right_avg_m > 0.83 or right_avg_m < 0.36:\n",
    "        right_avg_m = prev_right_avg_m\n",
    "        right_b = prev_right_b\n",
    "        keep_prev_right = True\n",
    "  \n",
    "    prev_left_avg_m = left_avg_m \n",
    "    prev_right_avg_m = right_avg_m\n",
    "    prev_left_b = left_b\n",
    "    prev_right_b = right_b\n",
    "    \n",
    "    # 根据斜率和截距, 计算对应y值的x\n",
    "    left_x1, left_x2 = get_x_intercepts(y_1=y_min, y_2=imgshape[0], slope=left_avg_m, b=left_b)\n",
    "    right_x1, right_x2 = get_x_intercepts(y_1=y_min, y_2=imgshape[0], slope=right_avg_m, b=right_b)\n",
    "    \n",
    "    ## 求累积平均值 ##\n",
    "    global prev_left_x1\n",
    "    global prev_left_x2\n",
    "    global prev_right_x1 \n",
    "    global prev_right_x2 \n",
    "\n",
    "    if prev_left_x1 != 0 or prev_left_x2 != 0 or prev_right_x1 != 0 or prev_right_x2 !=0:\n",
    "        alpha = 0.2\n",
    "        left_x1_new = math.floor((alpha)*left_x1 + (1-alpha)*prev_left_x1)\n",
    "        left_x2_new = math.floor((alpha)*left_x2 + (1-alpha)*prev_left_x2)\n",
    "        right_x1_new = math.floor((alpha)*right_x1 + (1-alpha)*prev_right_x1)\n",
    "        right_x2_new = math.floor((alpha)*right_x2 + (1-alpha)*prev_right_x2)\n",
    "        prev_left_x1 = left_x1_new\n",
    "        prev_left_x2 = left_x2_new\n",
    "        prev_right_x1 = right_x1_new\n",
    "        prev_right_x2 = right_x2_new\n",
    "    else:\n",
    "        left_x1_new = left_x1\n",
    "        left_x2_new = left_x2\n",
    "        right_x1_new = right_x1\n",
    "        right_x2_new = right_x2\n",
    "        prev_left_x1 = left_x1_new\n",
    "        prev_left_x2 = left_x2_new\n",
    "        prev_right_x1 = right_x1_new\n",
    "        prev_right_x2 = right_x2_new\n",
    "\n",
    "    left_line = np.array([left_x1_new, y_min, left_x2_new, imgshape[0]], dtype=np.int32)\n",
    "    right_line = np.array([right_x1_new, y_min, right_x2_new, imgshape[0]], dtype=np.int32)\n",
    "    \n",
    "    if keep_prev_left:\n",
    "        left_line = prev_left_line\n",
    "        left_x1_new = prev_left_x1\n",
    "        left_x2_new = prev_left_x2\n",
    "    if keep_prev_right:\n",
    "        right_line = prev_right_line\n",
    "        right_x1_new = prev_right_x1\n",
    "        right_x2_new = prev_right_x2\n",
    "        \n",
    "    cv2.line(img, (int(left_x1_new), int(y_min)), (int(left_x2_new), imgshape[0]), color, thickness)\n",
    "    cv2.line(img, (int(right_x1_new), int(y_min)), (int(right_x2_new), imgshape[0]), color, thickness)        \n",
    "        \n",
    "    ## 求累积平均值结束 ##\n",
    "   \n",
    "    \n",
    "def hough_lines(img, rho, theta, threshold, min_line_len, max_line_gap, extrapolate=False):\n",
    "    \"\"\"\n",
    "    `img` Canny边缘检测的输出.\n",
    "    `rho` = Hough Grid中像素的距离\n",
    "    `theta` = Hough grid中角度的距离\n",
    "    `threshold` = 最小的voting数值\n",
    "    `min_line_len` = 构成一条线的最小像素个数\n",
    "    `max_line_gap` = 可以相连的线段之间的最大距离\n",
    "    返回黑背景上面有白线的图.\n",
    "    \"\"\" \n",
    "    lines = cv2.HoughLinesP(img, rho, theta, threshold, np.array([]), minLineLength=min_line_len, maxLineGap=max_line_gap)\n",
    "    line_img = np.zeros((img.shape[0], img.shape[1], 3), dtype=np.uint8)\n",
    "    if not extrapolate:\n",
    "        draw_lines(line_img, lines)\n",
    "    elif extrapolate:\n",
    "        draw_lines_extrapolated(line_img, lines)\n",
    "    \n",
    "    return line_img\n",
    "\n",
    "\n",
    "def weighted_img(img, initial_img, a=0.8, b=1.):\n",
    "    \"\"\"\n",
    "    `img` hough_lines()的输出, 黑背景上面有白线的图.\n",
    "    \n",
    "    `initial_img` 原始图像.\n",
    "    \n",
    "    加权相加:\n",
    "    \n",
    "    initial_img * a + img * b \n",
    "    \"\"\"\n",
    "    return cv2.addWeighted(initial_img, a, img, b, 0)"
   ]
  },
  {
   "cell_type": "markdown",
   "metadata": {},
   "source": [
    "## 在图像上面测试\n"
   ]
  },
  {
   "cell_type": "code",
   "execution_count": 4,
   "metadata": {},
   "outputs": [
    {
     "data": {
      "text/plain": [
       "['challenge-area-1.png',\n",
       " 'solidYellowCurve.jpg',\n",
       " 'challenge-area.png',\n",
       " 'solidYellowLeft.jpg',\n",
       " 'solidYellowCurve2.jpg',\n",
       " 'solidWhiteRight.jpg',\n",
       " 'whiteCarLaneSwitch.jpg',\n",
       " 'solidWhiteCurve.jpg']"
      ]
     },
     "execution_count": 4,
     "metadata": {},
     "output_type": "execute_result"
    }
   ],
   "source": [
    "import os\n",
    "os.listdir(\"test_images/\")"
   ]
  },
  {
   "cell_type": "markdown",
   "metadata": {},
   "source": [
    "##### solidWhiteCurve.jpg  "
   ]
  },
  {
   "cell_type": "code",
   "execution_count": 5,
   "metadata": {},
   "outputs": [
    {
     "data": {
      "text/plain": [
       "<matplotlib.image.AxesImage at 0x123716b00>"
      ]
     },
     "execution_count": 5,
     "metadata": {},
     "output_type": "execute_result"
    },
    {
     "data": {
      "image/png": "[encoded data removed]",
      "text/plain": [
       "<Figure size 432x288 with 1 Axes>"
      ]
     },
     "metadata": {},
     "output_type": "display_data"
    }
   ],
   "source": [
    "img = mpimg.imread('test_images/solidWhiteCurve.jpg')\n",
    "img_shape= img.shape\n",
    "img_gray = grayscale(img)\n",
    "img_blur = gaussian_blur(img_gray, kernel_size=5)\n",
    "img_edge = canny(img_blur, low_threshold=50, high_threshold=150)\n",
    "vertices = np.array([[(0,img_shape[0]),(425, 315), (540, 315), (img_shape[1],img_shape[0])]], \\\n",
    "                        dtype=np.int32)\n",
    "img_masked_edges = region_of_interest(img_edge, vertices)\n",
    "img_hough_lines = hough_lines(img_masked_edges, rho=1, theta=np.pi/180, threshold=40,\n",
    "                              min_line_len=60, max_line_gap=20)\n",
    "img_lanes = weighted_img(img=img_hough_lines, initial_img=img, a=0.8, b=1.)\n",
    "plt.imshow(img_lanes)"
   ]
  },
  {
   "cell_type": "code",
   "execution_count": 6,
   "metadata": {},
   "outputs": [
    {
     "ename": "TypeError",
     "evalue": "weighted_img() got an unexpected keyword argument 'α'",
     "output_type": "error",
     "traceback": [
      "\u001b[0;31m---------------------------------------------------------------------------\u001b[0m",
      "\u001b[0;31mTypeError\u001b[0m                                 Traceback (most recent call last)",
      "\u001b[0;32m<ipython-input-6-349ecfc32f0e>\u001b[0m in \u001b[0;36m<module>\u001b[0;34m()\u001b[0m\n\u001b[1;32m      2\u001b[0m img_hough_lines_extrapolated = hough_lines(img_masked_edges, rho=1, theta=np.pi/180, threshold=40,\n\u001b[1;32m      3\u001b[0m                               min_line_len=60, max_line_gap=20, extrapolate=True)\n\u001b[0;32m----> 4\u001b[0;31m \u001b[0mimg_lanes_extrapolated\u001b[0m \u001b[0;34m=\u001b[0m \u001b[0mweighted_img\u001b[0m\u001b[0;34m(\u001b[0m\u001b[0mimg\u001b[0m\u001b[0;34m=\u001b[0m\u001b[0mimg_hough_lines_extrapolated\u001b[0m\u001b[0;34m,\u001b[0m \u001b[0minitial_img\u001b[0m\u001b[0;34m=\u001b[0m\u001b[0mimg\u001b[0m\u001b[0;34m,\u001b[0m \u001b[0mα\u001b[0m\u001b[0;34m=\u001b[0m\u001b[0;36m0.8\u001b[0m\u001b[0;34m,\u001b[0m \u001b[0mβ\u001b[0m\u001b[0;34m=\u001b[0m\u001b[0;36m1.\u001b[0m\u001b[0;34m,\u001b[0m \u001b[0mλ\u001b[0m\u001b[0;34m=\u001b[0m\u001b[0;36m0.\u001b[0m\u001b[0;34m)\u001b[0m\u001b[0;34m\u001b[0m\u001b[0;34m\u001b[0m\u001b[0m\n\u001b[0m\u001b[1;32m      5\u001b[0m \u001b[0mplt\u001b[0m\u001b[0;34m.\u001b[0m\u001b[0mimshow\u001b[0m\u001b[0;34m(\u001b[0m\u001b[0mimg_lanes_extrapolated\u001b[0m\u001b[0;34m)\u001b[0m\u001b[0;34m\u001b[0m\u001b[0;34m\u001b[0m\u001b[0m\n",
      "\u001b[0;31mTypeError\u001b[0m: weighted_img() got an unexpected keyword argument 'α'"
     ]
    }
   ],
   "source": [
    "# Extrapolated lines\n",
    "img_hough_lines_extrapolated = hough_lines(img_masked_edges, rho=1, theta=np.pi/180, threshold=40,\n",
    "                              min_line_len=60, max_line_gap=20, extrapolate=True)\n",
    "img_lanes_extrapolated = weighted_img(img=img_hough_lines_extrapolated, initial_img=img, a =0.8, b=1.)\n",
    "plt.imshow(img_lanes_extrapolated)"
   ]
  },
  {
   "cell_type": "markdown",
   "metadata": {},
   "source": [
    "##### solidWhiteRight.jpg "
   ]
  },
  {
   "cell_type": "code",
   "execution_count": null,
   "metadata": {},
   "outputs": [],
   "source": [
    "img = mpimg.imread('test_images/solidWhiteRight.jpg')\n",
    "img_shape= img.shape\n",
    "img_gray = grayscale(img)\n",
    "img_blur = gaussian_blur(img_gray, kernel_size=5)\n",
    "img_edge = canny(img_blur, low_threshold=50, high_threshold=150)\n",
    "vertices = np.array([[(0,img_shape[0]),(425, 315), (540, 315), (img_shape[1],img_shape[0])]], \\\n",
    "                        dtype=np.int32)\n",
    "img_masked_edges = region_of_interest(img_edge, vertices)\n",
    "img_hough_lines = hough_lines(img_masked_edges, rho=1, theta=np.pi/180, threshold=40,\n",
    "                              min_line_len=60, max_line_gap=40)\n",
    "img_lanes = weighted_img(img=img_hough_lines, initial_img=img, a=0.8, b=1.)\n",
    "\n",
    "plt.imshow(img_lanes)"
   ]
  },
  {
   "cell_type": "code",
   "execution_count": null,
   "metadata": {},
   "outputs": [],
   "source": [
    "# Extrapolated lines\n",
    "img_hough_lines_extrapolated = hough_lines(img_masked_edges, rho=1, theta=np.pi/180, threshold=40,\n",
    "                              min_line_len=60, max_line_gap=40, extrapolate=True)\n",
    "img_lanes_extrapolated = weighted_img(img=img_hough_lines_extrapolated, initial_img=img, a=0.8, b=1.)\n",
    "plt.imshow(img_lanes_extrapolated)"
   ]
  },
  {
   "cell_type": "markdown",
   "metadata": {},
   "source": [
    "##### solidYellowCurve.jpg"
   ]
  },
  {
   "cell_type": "code",
   "execution_count": null,
   "metadata": {},
   "outputs": [],
   "source": [
    "img = mpimg.imread('test_images/solidYellowCurve.jpg')\n",
    "img_shape= img.shape\n",
    "img_gray = grayscale(img)\n",
    "img_blur = gaussian_blur(img_gray, kernel_size=5)\n",
    "img_edge = canny(img_blur, low_threshold=50, high_threshold=150)\n",
    "vertices = np.array([[(0,img_shape[0]),(425, 315), (540, 315), (img_shape[1],img_shape[0])]], \\\n",
    "                        dtype=np.int32)\n",
    "img_masked_edges = region_of_interest(img_edge, vertices)\n",
    "img_hough_lines = hough_lines(img_masked_edges, rho=1, theta=np.pi/180, threshold=40,\n",
    "                              min_line_len=60, max_line_gap=30)\n",
    "img_lanes = weighted_img(img=img_hough_lines, initial_img=img, a=0.8, b=1.)\n",
    "\n",
    "plt.imshow(img_lanes)"
   ]
  },
  {
   "cell_type": "code",
   "execution_count": null,
   "metadata": {},
   "outputs": [],
   "source": [
    "# Extrapolated lines\n",
    "img_hough_lines_extrapolated = hough_lines(img_masked_edges, rho=1, theta=np.pi/180, threshold=40,\n",
    "                              min_line_len=60, max_line_gap=30, extrapolate=True)\n",
    "img_lanes_extrapolated = weighted_img(img=img_hough_lines_extrapolated, initial_img=img, a=0.8, b=1.)\n",
    "plt.imshow(img_lanes_extrapolated)"
   ]
  },
  {
   "cell_type": "markdown",
   "metadata": {},
   "source": [
    "##### solidYellowCurve2.jpg"
   ]
  },
  {
   "cell_type": "code",
   "execution_count": null,
   "metadata": {},
   "outputs": [],
   "source": [
    "img = mpimg.imread('test_images/solidYellowCurve2.jpg')\n",
    "img_shape= img.shape\n",
    "img_gray = grayscale(img)\n",
    "img_blur = gaussian_blur(img_gray, kernel_size=5)\n",
    "img_edge = canny(img_blur, low_threshold=50, high_threshold=150)\n",
    "vertices = np.array([[(0,img_shape[0]),(425, 315), (540, 315), (img_shape[1],img_shape[0])]], \\\n",
    "                        dtype=np.int32)\n",
    "img_masked_edges = region_of_interest(img_edge, vertices)\n",
    "img_hough_lines = hough_lines(img_masked_edges, rho=1, theta=np.pi/180, threshold=60,\n",
    "                              min_line_len=60, max_line_gap=30)\n",
    "img_lanes = weighted_img(img=img_hough_lines, initial_img=img, a=0.8, b=1.)\n",
    "\n",
    "plt.imshow(img_lanes)"
   ]
  },
  {
   "cell_type": "code",
   "execution_count": null,
   "metadata": {},
   "outputs": [],
   "source": [
    "# Extrapolated lines\n",
    "img_hough_lines_extrapolated = hough_lines(img_masked_edges, rho=1, theta=np.pi/180, threshold=60,\n",
    "                              min_line_len=60, max_line_gap=30, extrapolate=True)\n",
    "img_lanes_extrapolated = weighted_img(img=img_hough_lines_extrapolated, initial_img=img, a=0.8, b=1.)\n",
    "plt.imshow(img_lanes_extrapolated)"
   ]
  },
  {
   "cell_type": "markdown",
   "metadata": {},
   "source": [
    "##### solidYellowLeft.jpg"
   ]
  },
  {
   "cell_type": "code",
   "execution_count": null,
   "metadata": {},
   "outputs": [],
   "source": [
    "img = mpimg.imread('test_images/solidYellowLeft.jpg')\n",
    "img_shape= img.shape\n",
    "img_gray = grayscale(img)\n",
    "img_blur = gaussian_blur(img_gray, kernel_size=5)\n",
    "img_edge = canny(img_blur, low_threshold=50, high_threshold=150)\n",
    "vertices = np.array([[(0,img_shape[0]),(425, 315), (540, 315), (img_shape[1],img_shape[0])]], \\\n",
    "                        dtype=np.int32)\n",
    "img_masked_edges = region_of_interest(img_edge, vertices)\n",
    "img_hough_lines = hough_lines(img_masked_edges, rho=1, theta=np.pi/180, threshold=60, \n",
    "                              min_line_len=60, max_line_gap=30)\n",
    "img_lanes = weighted_img(img=img_hough_lines, initial_img=img, a=0.8, b=1.)\n",
    "\n",
    "plt.imshow(img_lanes)"
   ]
  },
  {
   "cell_type": "code",
   "execution_count": null,
   "metadata": {},
   "outputs": [],
   "source": [
    "# Extrapolated lines\n",
    "img_hough_lines_extrapolated = hough_lines(img_masked_edges, rho=1, theta=np.pi/180, threshold=60, \n",
    "                              min_line_len=60, max_line_gap=30, extrapolate=True)\n",
    "img_lanes_extrapolated = weighted_img(img=img_hough_lines_extrapolated, initial_img=img, a=0.8, b=1.)\n",
    "plt.imshow(img_lanes_extrapolated)"
   ]
  },
  {
   "cell_type": "markdown",
   "metadata": {},
   "source": [
    "##### whiteCarLaneSwitch.jpg"
   ]
  },
  {
   "cell_type": "code",
   "execution_count": null,
   "metadata": {},
   "outputs": [],
   "source": [
    "img = mpimg.imread('test_images/whiteCarLaneSwitch.jpg')\n",
    "img_shape= img.shape\n",
    "img_gray = grayscale(img)\n",
    "img_blur = gaussian_blur(img_gray, kernel_size=5)\n",
    "img_edge = canny(img_blur, low_threshold=50, high_threshold=150)\n",
    "vertices = np.array([[(0,img_shape[0]),(425, 315), (540, 315), (img_shape[1],img_shape[0])]], \\\n",
    "                        dtype=np.int32)\n",
    "img_masked_edges = region_of_interest(img_edge, vertices)\n",
    "img_hough_lines = hough_lines(img_masked_edges, rho=1, theta=np.pi/180, threshold=80,\n",
    "                              min_line_len=60, max_line_gap=30)\n",
    "img_lanes = weighted_img(img=img_hough_lines, initial_img=img, a=0.8, b=1.)\n",
    "\n",
    "plt.imshow(img_lanes)"
   ]
  },
  {
   "cell_type": "code",
   "execution_count": null,
   "metadata": {},
   "outputs": [],
   "source": [
    "# Extrapolated lines\n",
    "img_hough_lines_extrapolated = hough_lines(img_masked_edges, rho=1, theta=np.pi/180, threshold=80,\n",
    "                              min_line_len=60, max_line_gap=30, extrapolate=True)\n",
    "img_lanes_extrapolated = weighted_img(img=img_hough_lines_extrapolated, initial_img=img, a=0.8, b=1.)\n",
    "plt.imshow(img_lanes_extrapolated)"
   ]
  },
  {
   "cell_type": "markdown",
   "metadata": {},
   "source": [
    "## Test on Videos\n",
    "\n",
    "You know what's cooler than drawing lanes over images? Drawing lanes over video!\n",
    "\n",
    "We can test our solution on two provided videos:\n",
    "\n",
    "`solidWhiteRight.mp4`\n",
    "\n",
    "`solidYellowLeft.mp4`"
   ]
  },
  {
   "cell_type": "code",
   "execution_count": null,
   "metadata": {},
   "outputs": [],
   "source": [
    "# Import everything needed to edit/save/watch video clips\n",
    "from moviepy.editor import VideoFileClip\n",
    "from IPython.display import HTML"
   ]
  },
  {
   "cell_type": "code",
   "execution_count": null,
   "metadata": {},
   "outputs": [],
   "source": [
    "def process_image(image):\n",
    "    # NOTE: The output you return should be a color image (3 channel) for processing video below\n",
    "    # TODO: put your pipeline here,\n",
    "    # you should return the final output (image with lines are drawn on lanes)\n",
    "    img_shape= image.shape\n",
    "    img_gray = grayscale(image)\n",
    "    \n",
    "    \n",
    "    img_blur = gaussian_blur(img_gray, kernel_size=5)\n",
    "    img_edge = canny(img_gray, low_threshold=50, high_threshold=100)\n",
    "    # For challenge video, use different parameters below\n",
    "    #img_blur = gaussian_blur(img_gray, kernel_size=3) # for challenge video\n",
    "    #img_edge = canny(img_blur, low_threshold=5, high_threshold=170)  # for challenge video \n",
    "\n",
    "    \n",
    "    # to make this function moregeneral, I am using % of height and width of each video frame,\n",
    "    # rather than using explicit vertices that I used while processing images above \n",
    "    vertices = np.array([[(img_shape[1]*0.20,img_shape[0]),(img_shape[1]*0.40, img_shape[0]*0.60), \n",
    "                          (img_shape[1]*0.55, img_shape[0]*0.60), (img_shape[1],img_shape[0])]], dtype=np.int32)\n",
    "    # For challenge video, use different parameters below \n",
    "    #vertices = np.array([[(img_shape[1]*0.10,img_shape[0]),(img_shape[1]*0.40, img_shape[0]*0.60), \n",
    "    #                      (img_shape[1]*0.55, img_shape[0]*0.60), (img_shape[1],img_shape[0])]], dtype=np.int32)\n",
    "    \n",
    "    \n",
    "    img_masked_edges = region_of_interest(img_edge, vertices)\n",
    "    \n",
    "    \n",
    "    # Update the parameters in hough_lines to make it work on all videos\n",
    "    img_hough_lines_extrapolated = hough_lines(img_masked_edges, rho=1, theta=np.pi/180, threshold=40,\n",
    "                              min_line_len=10, max_line_gap=70, extrapolate=True)\n",
    "    # For Challenge video, use different paremeters below \n",
    "    #img_hough_lines_extrapolated = hough_lines(img_masked_edges, rho=0.5, theta=np.pi/360, threshold=8,\n",
    "    #                          min_line_len=5, max_line_gap=150, extrapolate=True)\n",
    "    \n",
    "    img_lanes_extrapolated = weighted_img(img=img_hough_lines_extrapolated, initial_img=image, a=0.8, b=1.)\n",
    "\n",
    "    return img_lanes_extrapolated"
   ]
  },
  {
   "cell_type": "markdown",
   "metadata": {},
   "source": [
    "### 测试视频上的检测效果"
   ]
  },
  {
   "cell_type": "code",
   "execution_count": null,
   "metadata": {},
   "outputs": [],
   "source": [
    "white_output = 'white.mp4'\n",
    "clip1 = VideoFileClip(\"solidWhiteRight.mp4\")\n",
    "white_clip = clip1.fl_image(process_image) #NOTE: this function expects color images!!\n",
    "%time white_clip.write_videofile(white_output, audio=False)"
   ]
  },
  {
   "cell_type": "markdown",
   "metadata": {
    "collapsed": true
   },
   "source": [
    "## 测试弯道上面的检测效果"
   ]
  },
  {
   "cell_type": "code",
   "execution_count": null,
   "metadata": {},
   "outputs": [],
   "source": [
    "challenge_output = 'extra.mp4'\n",
    "clip2 = VideoFileClip('challenge.mp4')\n",
    "challenge_clip = clip2.fl_image(process_image)\n",
    "%time challenge_clip.write_videofile(challenge_output, audio=False)"
   ]
  },
  {
   "cell_type": "code",
   "execution_count": null,
   "metadata": {},
   "outputs": [],
   "source": []
  }
 ],
 "metadata": {
  "anaconda-cloud": {},
  "kernelspec": {
   "name": "python3",
   "display_name": "Python 3.9.0 64-bit",
   "metadata": {
    "interpreter": {
     "hash": "638c6954857a2e0b92b75a7ac06f4c6ee0b43becf274fb80197f64010a763ec8"
    }
   }
  },
  "language_info": {
   "codemirror_mode": {
    "name": "ipython",
    "version": 3
   },
   "file_extension": ".py",
   "mimetype": "text/x-python",
   "name": "python",
   "nbconvert_exporter": "python",
   "pygments_lexer": "ipython3",
   "version": "3.9.0-final"
  },
  "widgets": {
   "state": {},
   "version": "1.1.2"
  }
 },
 "nbformat": 4,
 "nbformat_minor": 1
}